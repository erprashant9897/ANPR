{
 "cells": [
  {
   "cell_type": "code",
   "execution_count": 1,
   "id": "e6fd2cf5",
   "metadata": {},
   "outputs": [],
   "source": [
    "import cv2\n"
   ]
  },
  {
   "cell_type": "code",
   "execution_count": 2,
   "id": "139fb8b2",
   "metadata": {},
   "outputs": [],
   "source": [
    "platecascade = cv2.CascadeClassifier('haarcascade_russian_plate_number.xml')"
   ]
  },
  {
   "cell_type": "code",
   "execution_count": 3,
   "id": "8b4b8587",
   "metadata": {},
   "outputs": [],
   "source": [
    "minArea = 500"
   ]
  },
  {
   "cell_type": "code",
   "execution_count": 4,
   "id": "5537b125",
   "metadata": {},
   "outputs": [],
   "source": [
    "cap = cv2.VideoCapture(0)"
   ]
  },
  {
   "cell_type": "code",
   "execution_count": 5,
   "id": "4609e054",
   "metadata": {},
   "outputs": [],
   "source": [
    "count = 0"
   ]
  },
  {
   "cell_type": "code",
   "execution_count": null,
   "id": "1b262e7c",
   "metadata": {},
   "outputs": [],
   "source": [
    "while True:\n",
    "    success, img = cap.read()\n",
    "    imgGray = cv2.cvtColor(img, cv2.COLOR_BGR2BGRA)\n",
    "    numplate = platecascade.detectMultiScale(imgGray, 1.1, 4)\n",
    "    \n",
    "    for (x, y, w, h) in numplate:\n",
    "        area = w * h\n",
    "        if area > minArea:\n",
    "            cv2.rectangle(img, (x,y),(x+w, y+h), (255, 0,0), 2)\n",
    "            cv2.putText(img, \"NUMBER PLATE\", (x, y-5), cv2.FONT_HERSHEY_COMPLEX, 1 , (0, 0, 255), 2)\n",
    "            imgRoi = img[y:y+h, x:x+w]\n",
    "            cv2.imshow(\"ROI\", imgRoi)\n",
    "    \n",
    "    cv2.imshow(\"RESULT\", img)\n",
    "    if cv2.waitKey(1) & 0xFF == ord('s'):\n",
    "        cv2.imwrite(\"E:\\My_Projects\\ANPR\\Output Images\"+str(count)+\".png\", imgRoi)\n",
    "        cv2.rectangle(img, (0,200),(640,300),(255,0,0),cv2.FILLED)\n",
    "        cv2.putText(img, \"CSAN SAVED\", (15, 265), cv2.FONT_HERSHEY_COMPLEX, 2, (0,255,255),2)\n",
    "        cv2.imshow(\"FINAL OUTPUT\", img)\n",
    "        cv2.waitKey(500)\n",
    "        count = count + 1\n",
    "        "
   ]
  },
  {
   "cell_type": "code",
   "execution_count": null,
   "id": "64ed1972",
   "metadata": {},
   "outputs": [],
   "source": []
  },
  {
   "cell_type": "code",
   "execution_count": null,
   "id": "7097391b",
   "metadata": {},
   "outputs": [],
   "source": []
  }
 ],
 "metadata": {
  "kernelspec": {
   "display_name": "Python 3 (ipykernel)",
   "language": "python",
   "name": "python3"
  },
  "language_info": {
   "codemirror_mode": {
    "name": "ipython",
    "version": 3
   },
   "file_extension": ".py",
   "mimetype": "text/x-python",
   "name": "python",
   "nbconvert_exporter": "python",
   "pygments_lexer": "ipython3",
   "version": "3.9.6"
  }
 },
 "nbformat": 4,
 "nbformat_minor": 5
}
