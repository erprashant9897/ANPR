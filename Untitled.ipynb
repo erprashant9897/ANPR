{
 "cells": [
  {
   "cell_type": "code",
   "execution_count": null,
   "id": "290b2483",
   "metadata": {},
   "outputs": [],
   "source": [
    "import cv2\n"
   ]
  },
  {
   "cell_type": "code",
   "execution_count": null,
   "id": "2cc08b33",
   "metadata": {},
   "outputs": [],
   "source": [
    "platecascade = cv2.CascadeClassifier('haarcascade_russian_plate_number.xml')"
   ]
  },
  {
   "cell_type": "code",
   "execution_count": null,
   "id": "62dbcdac",
   "metadata": {},
   "outputs": [],
   "source": [
    "minArea = 500"
   ]
  },
  {
   "cell_type": "code",
   "execution_count": null,
   "id": "7b1df7d2",
   "metadata": {},
   "outputs": [],
   "source": [
    "cap = cv2.VideoCapture(0)"
   ]
  },
  {
   "cell_type": "code",
   "execution_count": null,
   "id": "f6990cdc",
   "metadata": {},
   "outputs": [],
   "source": [
    "count = 0"
   ]
  },
  {
   "cell_type": "code",
   "execution_count": null,
   "id": "a220a7ee",
   "metadata": {},
   "outputs": [],
   "source": [
    "while True:\n",
    "    success, img = cap.read()\n",
    "    imgGray = cv2.cvtColor(img, cv2.COLOR_BGR2BGRA)\n",
    "    numplate = platecascade.detectMultiScale(imgGray, 1.1, 4)\n",
    "    \n",
    "    for (x, y, w, h) in numplate:\n",
    "        area = w * h\n",
    "        if area > minArea:\n",
    "            cv2.rectangle(img, (x,y),(x+w, y+h), (255, 0,0), 2)\n",
    "            cv2.putText(img, \"NUMBER PLATE\", (x, y-5), cv2.FONT_HERSHEY_COMPLEX, 1 , (0, 0, 255), 2)\n",
    "            imgRoi = img[y:y+h, x:x+w]\n",
    "            cv2.imshow(\"ROI\", imgRoi)\n",
    "    \n",
    "    cv2.imshow(\"RESULT\", img)\n",
    "    if cv2.waitKey(1) & 0xFF == ord('s'):\n",
    "        cv2.imwrite(\"E:\\My_Projects\\ANPR\\Output Images\\IMAGES\"+str(count)+\".png\", imgRoi)\n",
    "        cv2.rectangle(img, (0,200),(640,300),(255,0,0),cv2.FILLED)\n",
    "        cv2.putText(img, \"CSAN SAVED\", (15, 265), cv2.FONT_HERSHEY_COMPLEX, 2, (0,255,255),2)\n",
    "        cv2.imshow(\"RESULT\", img)\n",
    "        key = cv2.waitKey(1) & 0xFF\n",
    "        if key == 13:\n",
    "            break\n",
    "        count = count + 1\n",
    "\n",
    "\n",
    "cap.release()\n",
    "cv2.destroyAllWindows()\n",
    "        "
   ]
  },
  {
   "cell_type": "code",
   "execution_count": null,
   "id": "3dc82c76",
   "metadata": {},
   "outputs": [],
   "source": []
  },
  {
   "cell_type": "code",
   "execution_count": null,
   "id": "9e1b407b",
   "metadata": {},
   "outputs": [],
   "source": []
  }
 ],
 "metadata": {
  "kernelspec": {
   "display_name": "Python 3 (ipykernel)",
   "language": "python",
   "name": "python3"
  },
  "language_info": {
   "codemirror_mode": {
    "name": "ipython",
    "version": 3
   },
   "file_extension": ".py",
   "mimetype": "text/x-python",
   "name": "python",
   "nbconvert_exporter": "python",
   "pygments_lexer": "ipython3",
   "version": "3.9.6"
  }
 },
 "nbformat": 4,
 "nbformat_minor": 5
}
